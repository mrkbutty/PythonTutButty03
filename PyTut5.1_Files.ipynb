{
 "cells": [
  {
   "cell_type": "markdown",
   "metadata": {},
   "source": [
    "## Before continuing, please select menu option:  **Cell => All output => clear**"
   ]
  },
  {
   "cell_type": "code",
   "execution_count": null,
   "metadata": {},
   "outputs": [],
   "source": []
  },
  {
   "cell_type": "code",
   "execution_count": null,
   "metadata": {},
   "outputs": [],
   "source": []
  },
  {
   "cell_type": "code",
   "execution_count": null,
   "metadata": {},
   "outputs": [],
   "source": []
  },
  {
   "cell_type": "markdown",
   "metadata": {},
   "source": [
    "# Open repo PythonTutButty03 and go through the CLI examples\n",
    "\n",
    " - CLIargs1.py - Parameter argv in the sys module.\n",
    " - CLIargs2.py - Program structure separating CLI parsing.\n",
    " - CLIargs3.py - separating options and arguments.\n",
    " - CLIskeleton.py - Uses argparse, a helpful python built-in module.\n",
    "\n",
    "Take a look at clickskeleton.py"
   ]
  },
  {
   "cell_type": "code",
   "execution_count": null,
   "metadata": {},
   "outputs": [],
   "source": []
  },
  {
   "cell_type": "code",
   "execution_count": null,
   "metadata": {},
   "outputs": [],
   "source": []
  },
  {
   "cell_type": "code",
   "execution_count": null,
   "metadata": {},
   "outputs": [],
   "source": []
  },
  {
   "cell_type": "markdown",
   "metadata": {},
   "source": [
    "# Files & I/O"
   ]
  },
  {
   "cell_type": "code",
   "execution_count": null,
   "metadata": {},
   "outputs": [],
   "source": [
    "import os\n",
    "os.path.exists('testdata')"
   ]
  },
  {
   "cell_type": "code",
   "execution_count": null,
   "metadata": {},
   "outputs": [],
   "source": [
    "targetdir = 'testdata'\n",
    "if os.path.exists(targetdir):\n",
    "    print(os.listdir(targetdir))"
   ]
  },
  {
   "cell_type": "markdown",
   "metadata": {},
   "source": [
    "### There are many pathname manipulation functions:\n",
    " - https://docs.python.org/3/library/os.path.html\n",
    "  - Common ones are abspath, basename, dirname, exists, join, split, splitext"
   ]
  },
  {
   "cell_type": "code",
   "execution_count": null,
   "metadata": {},
   "outputs": [],
   "source": [
    "fullname = os.path.abspath(r'./testdata')\n",
    "fullname"
   ]
  },
  {
   "cell_type": "code",
   "execution_count": null,
   "metadata": {},
   "outputs": [],
   "source": [
    "os.path.basename(fullname)"
   ]
  },
  {
   "cell_type": "code",
   "execution_count": null,
   "metadata": {},
   "outputs": [],
   "source": [
    "os.path.dirname(fullname)"
   ]
  },
  {
   "cell_type": "code",
   "execution_count": null,
   "metadata": {},
   "outputs": [],
   "source": [
    "makeafullpath = os.path.join('one', 'two', 'three')\n",
    "makeafullpath"
   ]
  },
  {
   "cell_type": "code",
   "execution_count": null,
   "metadata": {},
   "outputs": [],
   "source": []
  },
  {
   "cell_type": "code",
   "execution_count": null,
   "metadata": {},
   "outputs": [],
   "source": []
  },
  {
   "cell_type": "markdown",
   "metadata": {},
   "source": [
    "#### Best ways to list directories"
   ]
  },
  {
   "cell_type": "code",
   "execution_count": null,
   "metadata": {},
   "outputs": [],
   "source": [
    "entries = os.listdir('testdata') # old method not recommended (what if directory was huge)\n",
    "entries"
   ]
  },
  {
   "cell_type": "code",
   "execution_count": null,
   "metadata": {},
   "outputs": [],
   "source": [
    "entries = os.scandir('testdata') # the preferred method\n",
    "entries"
   ]
  },
  {
   "cell_type": "code",
   "execution_count": null,
   "metadata": {},
   "outputs": [],
   "source": [
    "for i in os.scandir('testdata'):\n",
    "    print(i.name)"
   ]
  },
  {
   "cell_type": "code",
   "execution_count": null,
   "metadata": {},
   "outputs": [],
   "source": []
  },
  {
   "cell_type": "code",
   "execution_count": null,
   "metadata": {},
   "outputs": [],
   "source": [
    "from pathlib import Path\n",
    "entries = Path('testdata')   # This is now the preferred method with most functionality\n",
    "for entry in entries.iterdir():\n",
    "    print(entry.name)"
   ]
  },
  {
   "cell_type": "code",
   "execution_count": null,
   "metadata": {},
   "outputs": [],
   "source": [
    "# UNIX translate name patterns with wildcards like ? and * into a list of files. This is called globbing\n",
    "import glob\n",
    "glob.glob('testdata\\*.txt')"
   ]
  },
  {
   "cell_type": "code",
   "execution_count": null,
   "metadata": {},
   "outputs": [],
   "source": [
    "p = Path('.')\n",
    "list(p.glob('testdata\\*.csv'))"
   ]
  },
  {
   "cell_type": "code",
   "execution_count": null,
   "metadata": {},
   "outputs": [],
   "source": [
    "# Walking a directory tree and printing the names of the directories and files\n",
    "count = 0\n",
    "for dirpath, dirnames, files in os.walk('.'):\n",
    "    count += 1\n",
    "count"
   ]
  },
  {
   "cell_type": "code",
   "execution_count": null,
   "metadata": {},
   "outputs": [],
   "source": []
  },
  {
   "cell_type": "code",
   "execution_count": null,
   "metadata": {},
   "outputs": [],
   "source": [
    "# For Ref: Using a temporary file\n",
    "from tempfile import TemporaryFile\n",
    "fp = TemporaryFile('w+t')\n",
    "fp.write('Hello universe!')\n",
    "fp.name"
   ]
  },
  {
   "cell_type": "code",
   "execution_count": null,
   "metadata": {},
   "outputs": [],
   "source": [
    "fp.close()\n",
    "os.remove(fp.name)  # fails because the file was automatically removed upon closing"
   ]
  },
  {
   "cell_type": "code",
   "execution_count": null,
   "metadata": {},
   "outputs": [],
   "source": []
  },
  {
   "cell_type": "code",
   "execution_count": null,
   "metadata": {},
   "outputs": [],
   "source": [
    "# For Ref: opening a zipfile\n",
    "import os\n",
    "import zipfile\n",
    "\n",
    "zfname = r'testdata\\allconf.zip'\n",
    "\n",
    "if os.path.exists(zfname):\n",
    "    with zipfile.ZipFile(zfname, 'r') as zipobj:\n",
    "        for i in zipobj.namelist():\n",
    "            print(i)"
   ]
  },
  {
   "cell_type": "code",
   "execution_count": null,
   "metadata": {},
   "outputs": [],
   "source": []
  },
  {
   "cell_type": "code",
   "execution_count": null,
   "metadata": {},
   "outputs": [],
   "source": []
  },
  {
   "cell_type": "code",
   "execution_count": null,
   "metadata": {},
   "outputs": [],
   "source": []
  },
  {
   "cell_type": "markdown",
   "metadata": {},
   "source": [
    "## Reading & Writing files"
   ]
  },
  {
   "cell_type": "markdown",
   "metadata": {},
   "source": [
    "<br>Modes are:\n",
    "- 'r'\topen for reading (default)\n",
    "- 'w'\topen for writing, truncating the file first\n",
    "- 'x'\topen for exclusive creation, failing if the file already exists\n",
    "- 'a'\topen for writing, appending to the end of the file if it exists\n",
    "- 'b'\tbinary mode\n",
    "- 't'\ttext mode (default)\n",
    "- '+'\topen a disk file for updating (reading and writing)\n",
    "- 'U'\tuniversal newlines mode (deprecated)\n",
    "\n",
    "Difference between binary/text:\n",
    "- Files opened in binary mode return contents as bytes objects without unicode decoding. \n",
    "- In text mode the contents of the file are returned as str, After the bytes are decoded using a platform-dependent or specified encoding.\n",
    "\n",
    "#### File methods:\n",
    " - `.read(size=-1)` Reads an entire file or up to *size* number of bytes.\n",
    " - `.readline(size=-1)` Reads the next line or up to *size* characters from the next line.\n",
    " - `.readlines=()` Reads the remaining lines from the file as a list (including '\\n').\n",
    " - `.write(string or bytes)` Writes to the file.\n",
    " - `.writelines(seq)` Writes the sequence to the file (note that line endings '\\n' are not appended).\n",
    " \n",
    " Note that the `print` statement also accepts a file object which can be an open file:\n",
    "     ```\n",
    "     print(*args, file=sys.stdout)\n",
    "     ```\n",
    " "
   ]
  },
  {
   "cell_type": "code",
   "execution_count": null,
   "metadata": {},
   "outputs": [],
   "source": [
    "myfn = 'mytest.txt'\n",
    "fd = open(myfn, 'wb') # Note that mode of 'w' will open for writing and truncate the file first"
   ]
  },
  {
   "cell_type": "code",
   "execution_count": null,
   "metadata": {},
   "outputs": [],
   "source": [
    "!dir my*"
   ]
  },
  {
   "cell_type": "code",
   "execution_count": null,
   "metadata": {},
   "outputs": [],
   "source": [
    "# Get the file mode used\n",
    "print(fd.mode)"
   ]
  },
  {
   "cell_type": "code",
   "execution_count": null,
   "metadata": {},
   "outputs": [],
   "source": [
    "# Get the files name\n",
    "print(fd.name)"
   ]
  },
  {
   "cell_type": "code",
   "execution_count": null,
   "metadata": {},
   "outputs": [],
   "source": [
    "# Write text to a file with a newline\n",
    "fd.write(bytes(\"Write me to the file\\n\", 'UTF-8'))"
   ]
  },
  {
   "cell_type": "code",
   "execution_count": null,
   "metadata": {},
   "outputs": [],
   "source": [
    "# Close the file\n",
    "fd.close()"
   ]
  },
  {
   "cell_type": "code",
   "execution_count": null,
   "metadata": {},
   "outputs": [],
   "source": [
    "!type mytest.txt"
   ]
  },
  {
   "cell_type": "code",
   "execution_count": null,
   "metadata": {},
   "outputs": [],
   "source": []
  },
  {
   "cell_type": "code",
   "execution_count": null,
   "metadata": {},
   "outputs": [],
   "source": [
    "# Opens a file for reading and writing\n",
    "fd = open(myfn, \"rb+\")  # the + indicates update mode, you can also write to it (no truncation)\n",
    "# Read text from the file\n",
    "text = fd.read()\n",
    "print(type(text))\n",
    "print(text)"
   ]
  },
  {
   "cell_type": "code",
   "execution_count": null,
   "metadata": {},
   "outputs": [],
   "source": [
    "# Implicitly closed before re-opening:\n",
    "fd = open(myfn, \"r+\")  # Note by default this is opened as text\n",
    "fd.seek(6)\n",
    "fd.write('XX')\n",
    "fd.seek(0)\n",
    "# Read text from the file\n",
    "text = fd.read()\n",
    "print(type(text))\n",
    "print(text)"
   ]
  },
  {
   "cell_type": "code",
   "execution_count": null,
   "metadata": {},
   "outputs": [],
   "source": [
    "# Close the file\n",
    "fd.close()"
   ]
  },
  {
   "cell_type": "code",
   "execution_count": null,
   "metadata": {},
   "outputs": [],
   "source": [
    "# using the with statement context manager:\n",
    "with open(myfn, \"r+\") as fd:\n",
    "    # Read text from the file\n",
    "    text = fd.read()\n",
    "    print(type(text))\n",
    "    print(text)\n",
    "# file is automatically closed\n",
    "fd.seek(0)"
   ]
  },
  {
   "cell_type": "code",
   "execution_count": null,
   "metadata": {},
   "outputs": [],
   "source": [
    "import os\n",
    "# Delete the file\n",
    "os.remove(myfn)"
   ]
  },
  {
   "cell_type": "code",
   "execution_count": null,
   "metadata": {},
   "outputs": [],
   "source": [
    "!dir mytest.txt"
   ]
  },
  {
   "cell_type": "code",
   "execution_count": null,
   "metadata": {},
   "outputs": [],
   "source": []
  },
  {
   "cell_type": "code",
   "execution_count": null,
   "metadata": {},
   "outputs": [],
   "source": []
  },
  {
   "cell_type": "code",
   "execution_count": null,
   "metadata": {},
   "outputs": [],
   "source": [
    "# Looking to see if the demo files are available with a Jupyter special execute prefix (!):\n",
    "!dir testdata"
   ]
  },
  {
   "cell_type": "code",
   "execution_count": null,
   "metadata": {},
   "outputs": [],
   "source": [
    "filename = 'SSHOW_SYS.txt'\n",
    "filename = 'AllConf.csv'\n",
    "pathname = os.path.join('testdata', filename)\n",
    "if os.path.exists(pathname): print('Yes') "
   ]
  },
  {
   "cell_type": "code",
   "execution_count": null,
   "metadata": {},
   "outputs": [],
   "source": [
    "if os.path.exists(pathname):\n",
    "    count = 0\n",
    "    with open(pathname) as fd:\n",
    "        line = fd.readline()\n",
    "        while line != '':  # The EOF is a n empty string\n",
    "            line=line.strip()\n",
    "            print(line)\n",
    "            count += 1\n",
    "            if count > 3: break\n",
    "            line = fd.readline()"
   ]
  },
  {
   "cell_type": "code",
   "execution_count": null,
   "metadata": {},
   "outputs": [],
   "source": []
  },
  {
   "cell_type": "code",
   "execution_count": null,
   "metadata": {},
   "outputs": [],
   "source": [
    "if os.path.exists(pathname):\n",
    "    count = 0\n",
    "    with open(pathname) as fd:\n",
    "        for line in fd.readlines():   # this will return a full list of the entire file\n",
    "            line=line.strip()   # Comment this line and see what happens\n",
    "            print(line)\n",
    "            count += 1\n",
    "            if count > 3: break"
   ]
  },
  {
   "cell_type": "code",
   "execution_count": null,
   "metadata": {},
   "outputs": [],
   "source": []
  },
  {
   "cell_type": "code",
   "execution_count": null,
   "metadata": {},
   "outputs": [],
   "source": [
    "# This final approach is more Pythonic and can be quicker and more memory efficient. \n",
    "# Therefore, it is suggested you use this instead.\n",
    "if os.path.exists(pathname):\n",
    "    with open(pathname) as fd:\n",
    "        for i, line in enumerate(fd):   # Notice how iterating over a file descriptor is same as issung .readline()\n",
    "            line = line.strip()\n",
    "            print(f'[{i}] {line}')\n",
    "            if i > 3: break  "
   ]
  },
  {
   "cell_type": "code",
   "execution_count": null,
   "metadata": {},
   "outputs": [],
   "source": []
  },
  {
   "cell_type": "code",
   "execution_count": null,
   "metadata": {},
   "outputs": [],
   "source": [
    "# An example of opening a zip file and directly reading the internal file \n",
    "import zipfile\n",
    "with zipfile.ZipFile(r'testdata\\allconf.zip', 'r') as zipobj:\n",
    "    text = zipobj.read('AllConf.csv').decode()   # A zipfile object is opened as binary so may need decode to string \n",
    "\n",
    "for i, line in enumerate(text.split('\\n')):\n",
    "    print(line)\n",
    "    if i > 5:\n",
    "        break"
   ]
  },
  {
   "cell_type": "code",
   "execution_count": null,
   "metadata": {},
   "outputs": [],
   "source": []
  },
  {
   "cell_type": "code",
   "execution_count": null,
   "metadata": {},
   "outputs": [],
   "source": []
  },
  {
   "cell_type": "markdown",
   "metadata": {},
   "source": [
    "### Working with two files at once:\n",
    "There are times when you may want to read a file and write to another file at the same time. Here is an example:\n",
    "\n",
    "``` python\n",
    "d_path = 'dog_breeds.txt'\n",
    "d_r_path = 'dog_breeds_reversed.txt'\n",
    "with open(d_path, 'r') as reader, open(d_r_path, 'w') as writer:\n",
    "    dog_breeds = reader.readlines()\n",
    "    writer.writelines(reversed(dog_breeds))\n",
    "```\n",
    "\n",
    "### Don't reinvent the snake:\n",
    "Additionally, there are built-in libraries out there that you can use to help you:\n",
    "\n",
    "* wave: read and write WAV files (audio)\n",
    "* aifc: read and write AIFF and AIFC files (audio)\n",
    "* sunau: read and write Sun AU files\n",
    "* tarfile: read and write tar archive files\n",
    "* zipfile: work with ZIP archives\n",
    "* configparser: easily create and parse configuration files\n",
    "* xml.etree.ElementTree: create or read XML based files\n",
    "* msilib: read and write Microsoft Installer files\n",
    "* plistlib: generate and parse Mac OS X .plist files\n",
    "\n",
    "There are plenty more out there. Additionally there are even more third party tools available on PyPI. Some popular ones are the following:\n",
    "\n",
    "* PyPDF2: PDF toolkit\n",
    "* xlwings or : read and write Excel files\n",
    "* xlsxwriter : write Excel files\n",
    "* Pillow: image reading and manipulation"
   ]
  },
  {
   "cell_type": "code",
   "execution_count": null,
   "metadata": {},
   "outputs": [],
   "source": []
  },
  {
   "cell_type": "code",
   "execution_count": null,
   "metadata": {},
   "outputs": [],
   "source": []
  },
  {
   "cell_type": "markdown",
   "metadata": {},
   "source": [
    "## Exercise:\n",
    "1. In Vscode create a `mypackage` folder under the `pytut` directory (which you should have created previously).\n",
    "1. Copy all the `*.txt` `*.csv` files from PytutButty01 into this new directory.\n",
    "1. Copy the `CLIskeleton.py` (Under PytutButty03) program into this folder and rename it `mygrep.py`\n",
    "1. Write CLI program to accept a filename and text string:\n",
    "\n",
    "```\n",
    "mygrep.py [options] <filename> <text string>\n",
    "-c = case sensitive\n",
    "```\n",
    "\n",
    " - It needs to output any lines containing the text string.\n",
    " - By default supplied text searching should be case insensitive.\n",
    "\n"
   ]
  },
  {
   "cell_type": "markdown",
   "metadata": {},
   "source": [
    "## Exercise (Part2):\n",
    "1. In the mypackage folder copy the `CLIskeleton.py` (Under PytutButty03) program into this folder and rename it `<name>tool.py`. \n",
    "1. You can play around & test in the notebook but the objecting is to do the following is a stand alone CLI program, so edit and modify the skeleton in Vscode:\n",
    "\n",
    "- Write some code to process either the `SSHOW_SYS.txt` or `Allconf.csv` or `poolinfo.txt` and print out your favorite section.\n",
    "    - `SSHOW_SYS.txt` example: text between `???/switchshow` to blank line.\n",
    "    - `Allconf.csv` example: text between `<<System Option Information>>` to next `<<?>>` section.\n",
    "    - `poolinfo.txt` example: text between `POOL-ID` and a blank line.\n",
    "\n",
    "### As a hint:\n",
    " - After the argparse processing call a new function `main(args.filename)`.\n",
    " - Create a new main function to process and output the file.\n",
    " - It can be a good idea to logically put in an output limit while initially developing (e.g. maximum 20 lines). "
   ]
  },
  {
   "cell_type": "code",
   "execution_count": null,
   "metadata": {},
   "outputs": [],
   "source": []
  },
  {
   "cell_type": "code",
   "execution_count": null,
   "metadata": {},
   "outputs": [],
   "source": []
  },
  {
   "cell_type": "code",
   "execution_count": null,
   "metadata": {},
   "outputs": [],
   "source": []
  }
 ],
 "metadata": {
  "kernelspec": {
   "display_name": "Python 3",
   "language": "python",
   "name": "python3"
  },
  "language_info": {
   "codemirror_mode": {
    "name": "ipython",
    "version": 3
   },
   "file_extension": ".py",
   "mimetype": "text/x-python",
   "name": "python",
   "nbconvert_exporter": "python",
   "pygments_lexer": "ipython3",
   "version": "3.8.5"
  }
 },
 "nbformat": 4,
 "nbformat_minor": 2
}
