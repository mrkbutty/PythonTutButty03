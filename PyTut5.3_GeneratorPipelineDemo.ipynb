{
 "cells": [
  {
   "cell_type": "markdown",
   "metadata": {},
   "source": [
    "## Before continuing, please select menu option:  **Cell => All output => clear**"
   ]
  },
  {
   "cell_type": "code",
   "execution_count": null,
   "metadata": {},
   "outputs": [],
   "source": []
  },
  {
   "cell_type": "code",
   "execution_count": null,
   "metadata": {},
   "outputs": [],
   "source": []
  },
  {
   "cell_type": "code",
   "execution_count": null,
   "metadata": {},
   "outputs": [],
   "source": []
  },
  {
   "cell_type": "markdown",
   "metadata": {},
   "source": [
    "## Generators are great for processing files & pipelines\n",
    "\n",
    "*This example uses generator comprehensions but a more complete solution would likely use generator functions.*\n",
    "\n",
    "Imagine a large dataset:\n",
    "\n",
    "> permalink,company,numEmps,category,city,state,fundedDate,raisedAmt,raisedCurrency,round<br>\n",
    "> digg,Digg,60,web,San Francisco,CA,1-Dec-06,8500000,USD,b<br>\n",
    "> digg,Digg,60,web,San Francisco,CA,1-Oct-05,2800000,USD,a<br>\n",
    "> facebook,Facebook,450,web,Palo Alto,CA,1-Sep-04,500000,USD,angel<br>\n",
    "> facebook,Facebook,450,web,Palo Alto,CA,1-May-05,12700000,USD,a<br>\n",
    "> photobucket,Photobucket,60,web,Palo Alto,CA,1-Mar-05,3000000,USD,a<br>\n",
    "> ...\n",
    "\n",
    "Strategy:\n",
    "\n",
    "1. Read every line of the file.\n",
    "2. Split each line into a list of values.\n",
    "3. Extract the column names.\n",
    "4. Use the column names and lists to create a dictionary.\n",
    "5. Filter out the rounds you aren’t interested in.\n",
    "6. Calculate the total and average values for the rounds you are interested in."
   ]
  },
  {
   "cell_type": "code",
   "execution_count": null,
   "metadata": {},
   "outputs": [],
   "source": [
    "# Is the sample available:\n",
    "!dir techcrunch.csv"
   ]
  },
  {
   "cell_type": "code",
   "execution_count": null,
   "metadata": {},
   "outputs": [],
   "source": [
    "!type techcrunch.csv"
   ]
  },
  {
   "cell_type": "code",
   "execution_count": null,
   "metadata": {},
   "outputs": [],
   "source": [
    "# Read in the file:\n",
    "file_name = \"techcrunch.csv\"\n",
    "lines = (line for line in open(file_name))\n",
    "lines"
   ]
  },
  {
   "cell_type": "code",
   "execution_count": null,
   "metadata": {},
   "outputs": [],
   "source": [
    "# Split each line ito values:\n",
    "list_line = (s.rstrip().split(\",\") for s in lines)\n",
    "list_line"
   ]
  },
  {
   "cell_type": "code",
   "execution_count": null,
   "metadata": {},
   "outputs": [],
   "source": [
    "# Get just the header row:\n",
    "cols = next(list_line)\n",
    "cols"
   ]
  },
  {
   "cell_type": "code",
   "execution_count": null,
   "metadata": {},
   "outputs": [],
   "source": [
    "# Convert data into a dictionary:\n",
    "company_dicts = (dict(zip(cols, data)) for data in list_line)\n",
    "company_dicts"
   ]
  },
  {
   "cell_type": "code",
   "execution_count": null,
   "metadata": {},
   "outputs": [],
   "source": [
    "# Filter the rounds you are not interested in:\n",
    "funding = (\n",
    "    int(company_dict[\"raisedAmt\"])\n",
    "    for company_dict in company_dicts\n",
    "    if company_dict[\"round\"].upper() == \"A\"\n",
    ")\n",
    "funding"
   ]
  },
  {
   "cell_type": "code",
   "execution_count": null,
   "metadata": {},
   "outputs": [],
   "source": [
    "# Calculate the total:\n",
    "total_series_a = sum(funding)\n",
    "print(f\"Total series A fundraising: ${total_series_a}\")"
   ]
  },
  {
   "cell_type": "code",
   "execution_count": null,
   "metadata": {},
   "outputs": [],
   "source": []
  },
  {
   "cell_type": "code",
   "execution_count": null,
   "metadata": {},
   "outputs": [],
   "source": []
  },
  {
   "cell_type": "code",
   "execution_count": null,
   "metadata": {},
   "outputs": [],
   "source": []
  },
  {
   "cell_type": "code",
   "execution_count": null,
   "metadata": {},
   "outputs": [],
   "source": []
  },
  {
   "cell_type": "markdown",
   "metadata": {},
   "source": [
    "## Exercise:\n",
    " 1. When does the code to read the data lines from the file get executed above?\n",
    " 2. Modify above to calcuate the average of the filtered rounds."
   ]
  },
  {
   "cell_type": "code",
   "execution_count": null,
   "metadata": {},
   "outputs": [],
   "source": []
  },
  {
   "cell_type": "code",
   "execution_count": null,
   "metadata": {},
   "outputs": [],
   "source": []
  },
  {
   "cell_type": "code",
   "execution_count": null,
   "metadata": {},
   "outputs": [],
   "source": []
  }
 ],
 "metadata": {
  "kernelspec": {
   "display_name": "Python 3",
   "language": "python",
   "name": "python3"
  },
  "language_info": {
   "codemirror_mode": {
    "name": "ipython",
    "version": 3
   },
   "file_extension": ".py",
   "mimetype": "text/x-python",
   "name": "python",
   "nbconvert_exporter": "python",
   "pygments_lexer": "ipython3",
   "version": "3.8.5"
  }
 },
 "nbformat": 4,
 "nbformat_minor": 2
}
