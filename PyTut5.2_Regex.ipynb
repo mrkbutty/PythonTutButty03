{
 "cells": [
  {
   "cell_type": "markdown",
   "metadata": {},
   "source": [
    "## Before continuing, please select menu option:  **Cell => All output => clear**"
   ]
  },
  {
   "cell_type": "code",
   "execution_count": null,
   "metadata": {},
   "outputs": [],
   "source": []
  },
  {
   "cell_type": "code",
   "execution_count": null,
   "metadata": {},
   "outputs": [],
   "source": []
  },
  {
   "cell_type": "code",
   "execution_count": null,
   "metadata": {},
   "outputs": [],
   "source": []
  },
  {
   "cell_type": "markdown",
   "metadata": {},
   "source": [
    "# Regex"
   ]
  },
  {
   "cell_type": "markdown",
   "metadata": {},
   "source": [
    "A (Very Brief) History of Regular Expressions\n",
    "\n",
    "In 1951, mathematician Stephen Cole Kleene described the concept of a regular language, a language that is recognizable by a finite automaton and formally expressible using regular expressions. In the mid-1960s, computer science pioneer Ken Thompson, one of the original designers of Unix, implemented pattern matching in the QED text editor using Kleene’s notation.\n",
    "\n",
    "Since then, regexes have appeared in many programming languages, editors, and other tools as a means of determining whether a string matches a specified pattern. Python, Java, and Perl all support regex functionality, as do most Unix tools and many text editors."
   ]
  },
  {
   "cell_type": "markdown",
   "metadata": {},
   "source": [
    "## Exercise:\n",
    "\n",
    "Play around on https://pythex.org/, copy & paste below string test string:\n",
    "\n",
    "    The \"quick\" brown fox (may have jumped), [or not] over the lazy dog\"\n",
    "\n",
    "Hint: See the cheat sheet on the Pythex page.\n",
    "\n",
    "\n",
    "\n",
    "* Try searching for the letter \"o\".\n",
    "* Try searching for the word \"fox\".\n",
    "* Search for all whitespace\n",
    "* Search for all non-whitespace\n",
    "* Try searching for the word \"fox\" followed by \"dog\".\n",
    "* Try searching for a word with letter \"o\" or \"a\" in it.\n",
    "* Make groups of any word with an \"o\" in it.\n",
    "* Group words within []"
   ]
  },
  {
   "cell_type": "code",
   "execution_count": null,
   "metadata": {},
   "outputs": [],
   "source": []
  },
  {
   "cell_type": "code",
   "execution_count": null,
   "metadata": {},
   "outputs": [],
   "source": [
    "# strings support some matching and searching functionaility:\n",
    "s = 'foo123bar'\n",
    "'123' in s"
   ]
  },
  {
   "cell_type": "code",
   "execution_count": null,
   "metadata": {},
   "outputs": [],
   "source": [
    "s = 'foo123bar'\n",
    "s.find('123')\n",
    "# or\n",
    "s.index('123')"
   ]
  },
  {
   "cell_type": "markdown",
   "metadata": {},
   "source": [
    "### Rather than searching for a fixed substring like '123', suppose you wanted to determine whether a string contains any three consecutive decimal digit characters, as in the strings 'foo123bar', 'foo456bar', '234baz', and 'qux678'."
   ]
  },
  {
   "cell_type": "code",
   "execution_count": null,
   "metadata": {},
   "outputs": [],
   "source": [
    "# import the \"re\" module from the python standard library:\n",
    "import re\n",
    "# dir(re) if you wish..."
   ]
  },
  {
   "cell_type": "code",
   "execution_count": null,
   "metadata": {},
   "outputs": [],
   "source": [
    "s = 'foo123bar'\n",
    "re.search('\\d\\d\\d', s)   # produces a match object looking for 3 x digits\n",
    "# The span of the match object is the same as the slice in the string"
   ]
  },
  {
   "cell_type": "code",
   "execution_count": null,
   "metadata": {},
   "outputs": [],
   "source": [
    "if re.search('[0-9]{3}', s):   # a match object is truthy\n",
    "    print('Found a match')\n",
    "else:\n",
    "    print('No match')"
   ]
  },
  {
   "cell_type": "code",
   "execution_count": null,
   "metadata": {},
   "outputs": [],
   "source": [
    "if re.match(r'\\d\\d\\d', s):   # If beginning of string match the regular expression pattern, return match object.\n",
    "    print('Found a match')\n",
    "else:\n",
    "    print('No match')"
   ]
  },
  {
   "cell_type": "markdown",
   "metadata": {},
   "source": [
    "Notice above the use of r to denote a \"raw\" string, this is a common convention to avoid accidental interpretation.\n",
    "Unless an 'r' or 'R' prefix is present, escape sequences in string and bytes literals are interpreted according to rules similar to those used by Standard C. The recognized escape sequences are:\n",
    "```\n",
    "\\newline = Backslash and newline ignored\n",
    "\\\\ = Backslash (\\)\n",
    "\\' = Single quote (')\n",
    "\\\" = Double quote (\")\n",
    "\\a = ASCII Bell (BEL)\n",
    "\\b = ASCII Backspace (BS)\n",
    "\\f = ASCII Formfeed (FF)\n",
    "\\n = ASCII Linefeed (LF)\n",
    "\\r = ASCII Carriage Return (CR)\n",
    "\\t = ASCII Horizontal Tab (TAB)\n",
    "\\v = ASCII Vertical Tab (VT)\n",
    "\\ooo = Character with octal value ooo\n",
    "\\xhh = Character with hex value hh\n",
    "```\n",
    "\n",
    "Escape sequences only recognized in string literals are:\n",
    "```\n",
    "\\N{name} = Character named name in the Unicode database\n",
    "\\uxxxx = Character with 16-bit hex value xxxx\n",
    "\\Uxxxxxxxx = Character with 32-bit hex value xxxxxxxx\n",
    "```\n",
    "\n",
    "For example if looking for the newline character:\n",
    "```\n",
    "m = re.search(chr(92)+chr(110))\n",
    "m = re.search(\"\\\\n\")\n",
    "m = re.search(r\"\\n\")\n",
    "```"
   ]
  },
  {
   "cell_type": "code",
   "execution_count": null,
   "metadata": {},
   "outputs": [],
   "source": []
  },
  {
   "cell_type": "code",
   "execution_count": null,
   "metadata": {},
   "outputs": [],
   "source": []
  },
  {
   "cell_type": "code",
   "execution_count": null,
   "metadata": {},
   "outputs": [],
   "source": []
  },
  {
   "cell_type": "code",
   "execution_count": null,
   "metadata": {},
   "outputs": [],
   "source": [
    "# We can use parenthesis to pull subgroups out of the string:\n",
    "s = 'foo123bar  foo bar'\n",
    "m = re.search(r'(\\d\\d\\d).*\\s+(\\w+)\\s+', s)\n",
    "if m:\n",
    "    print(m.groups())\n",
    "    print(m.group(0)) # The entire match\n",
    "    print(m.group(1)) # The first parenthesized subgroup\n",
    "    print(m.group(2)) # The second parenthesized subgroup\n",
    "    print(m.group(0,1,2)) # Multiple args give a tuple"
   ]
  },
  {
   "cell_type": "markdown",
   "metadata": {},
   "source": [
    "### Question: What if we wanted the second subgroup above to pull out any characters not just alphanumeric (\\w)? "
   ]
  },
  {
   "cell_type": "code",
   "execution_count": null,
   "metadata": {},
   "outputs": [],
   "source": []
  },
  {
   "cell_type": "code",
   "execution_count": null,
   "metadata": {},
   "outputs": [],
   "source": []
  },
  {
   "cell_type": "code",
   "execution_count": null,
   "metadata": {},
   "outputs": [],
   "source": [
    "sshow = '''Index Slot Port Address Media  Speed        State    Proto\n",
    "============================================================\n",
    "   0    3    0   720000   id    N32\t  No_Light    FC  Disabled (Persistent) \n",
    "   1    3    1   720100   id    N32\t  No_Light    FC  Disabled (Persistent) \n",
    "   2    3    2   720200   id    8G \t  Online      FC  F-Port  50:00:09:75:a8:17:50:1f \n",
    "   3    3    3   720300   id    8G \t  Online      FC  F-Port  50:00:09:75:a8:17:50:9f \n",
    "   4    3    4   720400   id    N32\t  No_Light    FC  Disabled (Persistent) \n",
    "   5    3    5   720500   id    N32\t  No_Light    FC  Disabled (Persistent) \n",
    "   8    3    8   720800   id    N32\t  No_Light    FC  Disabled (Persistent) \n",
    "   9    3    9   720900   id    N32\t  No_Light    FC  Disabled (Persistent) \n",
    "  10    3   10   720a00   id    N32\t  No_Light    FC  Disabled (Persistent) \n",
    "  11    3   11   720b00   id    N32\t  No_Light    FC  Disabled (Persistent) \n",
    "  12    3   12   720c00   id    N32\t  No_Light    FC  Disabled (Persistent) \n",
    "  13    3   13   720d00   id    N32\t  No_Light    FC  Disabled (Persistent) \n",
    "  14    3   14   720e00   id    8G \t  Online      FC  F-Port  50:06:0e:80:12:3b:2c:13 \n",
    "  15    3   15   720f00   id    8G \t  Online      FC  LS E-Port  10:00:88:94:71:25:4b:43 \"sgsindcw03sanr02\" \n",
    "  16    3   16   721000   id    8G \t  Online      FC  F-Port  50:06:0e:80:07:c8:62:33 \n",
    "  17    3   17   721100   id    8G \t  Online      FC  F-Port  50:06:0e:80:07:c8:62:bb \n",
    "  18    3   18   721200   id    8G \t  Online      FC  F-Port  50:06:0e:80:07:29:83:13 \n",
    "  19    3   19   721300   id    8G \t  Online      FC  F-Port  50:06:0e:80:07:2a:84:13 \n",
    "  20    3   20   721400   id    8G \t  Online      FC  F-Port  50:06:0e:80:07:2a:fe:13 \n",
    "'''.split('\\n')"
   ]
  },
  {
   "cell_type": "markdown",
   "metadata": {},
   "source": [
    "### However, for complex matches or many looped checks it is reccomended to `compile` to a regular expression pattern object before using for speed.\n",
    " - https://docs.python.org/3/library/re.html#regular-expression-objects\n",
    " - https://docs.python.org/3/library/re.html#match-objects"
   ]
  },
  {
   "cell_type": "code",
   "execution_count": null,
   "metadata": {},
   "outputs": [],
   "source": [
    "wwnpat = re.compile(r'([0-9a-f][0-9a-f]([\\s:-]?[0-9a-f][0-9a-f]){7})', re.IGNORECASE)  # find wwn\n",
    "# all the re functions are also defined as pattern methods:\n",
    "for i, line in enumerate(sshow, 1):\n",
    "    m = wwnpat.search(line)\n",
    "    if m:\n",
    "        print(m.groups())\n",
    "        print(f'line{i}:', m.group(0))"
   ]
  },
  {
   "cell_type": "code",
   "execution_count": null,
   "metadata": {},
   "outputs": [],
   "source": [
    "wwnpat = re.compile(r'([0-9a-f][0-9a-f]([\\s:-]?[0-9a-f][0-9a-f]){7})', re.IGNORECASE)  # find wwn\n",
    "# all the re functions are also defined as pattern methods:\n",
    "for i, line in enumerate(sshow, 1):\n",
    "    m = wwnpat.search(line)\n",
    "    if m:\n",
    "        print(re.split(r'\\s+', line))    # <== heres an example of spliting a string using regualr expressions\n",
    "        print(f'line{i}:', m.group(0))"
   ]
  },
  {
   "cell_type": "code",
   "execution_count": null,
   "metadata": {},
   "outputs": [],
   "source": []
  },
  {
   "cell_type": "markdown",
   "metadata": {},
   "source": [
    "## Exercise:\n",
    "1. Have a scan of the re module: https://docs.python.org/3/library/re.html\n",
    "1. Create a function \"getcache\" to accept the list of cache lines.\n",
    " - Values should be stored in a list of dictionaries using the headers as a keys.\n",
    " - The function should return this list of dictionarys.\n",
    " - Note that headers and values are seperated by a mixture of `,+!@`\n",
    " - There is also a corrupt line which should be ignored.\n",
    " \n",
    "Goal is to return:\n",
    " \n",
    "```\n",
    "[{'Module#': '0',\n",
    "  'Cache Location': 'CACHE-1CA',\n",
    "  'CM DIMM Size(GB)': '32',\n",
    "  'Cache Size(GB)': '256',\n",
    "  'SM Size(GB)': '18',\n",
    "  'Cache Residency Size(MB)': '0',\n",
    "  'CFM Size(GB)': '400'},\n",
    " {'Module#': '0',\n",
    "  'Cache Location': 'CACHE-1CB',\n",
    "  'CM DIMM Size(GB)': '32',\n",
    "  'Cache Size(GB)': '160',\n",
    "  'SM Size(GB)': '',\n",
    "  'Cache Residency Size(MB)': '',\n",
    "  'CFM Size(GB)': '400'},\n",
    " {'Module#': '1',...\n",
    "    \n",
    "```\n",
    " "
   ]
  },
  {
   "cell_type": "code",
   "execution_count": null,
   "metadata": {},
   "outputs": [],
   "source": [
    " # It might be easier to copy paste this into https://pythex.org/ to test your regex:\n",
    "cache = '''<<Cache>>\n",
    "Module#,Cache Location,CM DIMM Size(GB)+Cache Size(GB)!SM Size(GB)@Cache Residency Size(MB),CFM Size(GB)\n",
    "0,CACHE-1CA,32,256,18,0,400\n",
    "0+CACHE-1CB+32+160+++400\n",
    "325$£%£$%\"£%\"£%%sfsdfsdf,sdfdsf£$234324234sdfdsfsd <= this is a data corruption\n",
    "1,CACHE-1CC,,,,,\n",
    "1,CACHE-1CD,,,,,\n",
    "0!CACHE-2CA!32!256!18!0!400\n",
    "0@CACHE-2CB@32@160@@@400\n",
    "1,\"CACHE-2CC\",,,,,\n",
    "1,\"CACHE-2CD\",,,,,'''.split('\\n')"
   ]
  },
  {
   "cell_type": "code",
   "execution_count": null,
   "metadata": {},
   "outputs": [],
   "source": []
  },
  {
   "cell_type": "code",
   "execution_count": null,
   "metadata": {},
   "outputs": [],
   "source": []
  },
  {
   "cell_type": "code",
   "execution_count": null,
   "metadata": {},
   "outputs": [],
   "source": []
  },
  {
   "cell_type": "code",
   "execution_count": null,
   "metadata": {},
   "outputs": [],
   "source": [
    "# %load answers/getcache.py"
   ]
  },
  {
   "cell_type": "code",
   "execution_count": null,
   "metadata": {},
   "outputs": [],
   "source": []
  },
  {
   "cell_type": "code",
   "execution_count": null,
   "metadata": {},
   "outputs": [],
   "source": []
  },
  {
   "cell_type": "markdown",
   "metadata": {},
   "source": [
    "## Exercise:\n",
    "With what you have learned so far modify your tool program:\n",
    "1. Read in a file with the format of \"poolinfo.txt\" (i.e. passed on the command line)\n",
    "2. Make a dictionary of dictionarys for each Pool summary.\n",
    " - Key on the pool id.\n",
    " - Second level dictionary has key/value pairs for each item, e.g. `{'Type': 'DP(Multi-Tier)', 'Status':'Normal'}`.\n",
    "\n",
    "```\n",
    "    DP   <=== Note that each section: DP followed by multiple DP pools and TI by Thin Image pools.\n",
    "    DP(Multi-Tier)\n",
    "      POOL-ID : 0x0001(  1)   <=== KEY\n",
    "        Status                              : Normal\n",
    "        Total_Size                          : 232305528[MB]\n",
    "        Used_Size                           : 166673850[MB]\n",
    "        Reserved_Size                       : 0[MB]\n",
    "        Free_+_Reserved_Size(Formatted)     : 65631678[MB](22413426[MB])\n",
    "        Physical_Size                       : 0[MB]\n",
    "```\n",
    "        \n",
    "3. Add a two items to the dictionary to contain the POOL-VOL table.\n",
    " - Add a `poolvolheader` item for a list of headings.\n",
    " - Add a `poolvols` item to hold a list of lists containing the values.\n",
    " \n",
    " ```\n",
    "    POOL-VOL(136VOL(s))\n",
    "       Pool-Vol   Index   Tier   Volume_Size[MB]   Used_Size[MB]   Used_Rate[%]   Expanded_Space_Used   \n",
    "      ----------+-------+------+-----------------+---------------+--------------+---------------------+-\n",
    "       0xF000     0       1      2092944           1109262         53.0           Disabled              \n",
    "       0xF001     1       1      2097144           1111488         53.0           Disabled              \n",
    "       0xF002     2       1      2097144           1111488         53.0           Disabled              \n",
    "       0xF003     3       1      2097144           1111488         53.0           Disabled                        \n",
    "```\n",
    "\n",
    "\n",
    "4. Use the dictionary to print out statistics, e.g. line counts, value counts, max, min, total etc.\n",
    "\n",
    "#### Feel free to write & debug in Jupyter or Vscode but attempt to make a stand alone CLI program.\n",
    "#### I would suggest at least two functions; One or more producing the dictionary etc. and another to produce the statistics. "
   ]
  },
  {
   "cell_type": "code",
   "execution_count": null,
   "metadata": {},
   "outputs": [],
   "source": []
  },
  {
   "cell_type": "code",
   "execution_count": null,
   "metadata": {},
   "outputs": [],
   "source": []
  },
  {
   "cell_type": "code",
   "execution_count": null,
   "metadata": {},
   "outputs": [],
   "source": []
  }
 ],
 "metadata": {
  "kernelspec": {
   "display_name": "Python 3",
   "language": "python",
   "name": "python3"
  },
  "language_info": {
   "codemirror_mode": {
    "name": "ipython",
    "version": 3
   },
   "file_extension": ".py",
   "mimetype": "text/x-python",
   "name": "python",
   "nbconvert_exporter": "python",
   "pygments_lexer": "ipython3",
   "version": "3.8.5"
  }
 },
 "nbformat": 4,
 "nbformat_minor": 2
}
